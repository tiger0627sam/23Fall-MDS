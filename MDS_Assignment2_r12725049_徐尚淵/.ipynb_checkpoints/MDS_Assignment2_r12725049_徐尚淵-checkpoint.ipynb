{
 "cells": [
  {
   "cell_type": "markdown",
   "metadata": {},
   "source": [
    "## R12725049 Assignment2"
   ]
  },
  {
   "cell_type": "markdown",
   "metadata": {},
   "source": [
    "### 1(a.) 試簡述何謂維度的詛咒？試列舉一案例說明。"
   ]
  },
  {
   "cell_type": "markdown",
   "metadata": {},
   "source": [
    "- 隨著函數（或模型）所需要估計未知參數的增加，樣本所需要的數量會呈現指數型的成長，樣本數不足的情況容易發生不易收斂或多重解的可能性\n",
    "- 如影像處理即可能面臨維度詛咒。一個800*600的彩色照片代表有1440000個變數。"
   ]
  },
  {
   "cell_type": "markdown",
   "metadata": {},
   "source": [
    "### 1(b.) 避免維度詛咒的方法有哪些？"
   ]
  },
  {
   "cell_type": "markdown",
   "metadata": {},
   "source": [
    "- 降低維度\n",
    "- 在給定誤差的情況下滿足最少需要的樣本數\n",
    "- 僅留下需要的Feature\n",
    "- Clustering"
   ]
  },
  {
   "cell_type": "markdown",
   "metadata": {},
   "source": [
    "### 1(c.)，試著重新繪製圖 3.12，呈現維度與預測"
   ]
  },
  {
   "cell_type": "code",
   "execution_count": null,
   "metadata": {},
   "outputs": [],
   "source": []
  }
 ],
 "metadata": {
  "kernelspec": {
   "display_name": "Python 3 (ipykernel)",
   "language": "python",
   "name": "python3"
  },
  "language_info": {
   "codemirror_mode": {
    "name": "ipython",
    "version": 3
   },
   "file_extension": ".py",
   "mimetype": "text/x-python",
   "name": "python",
   "nbconvert_exporter": "python",
   "pygments_lexer": "ipython3",
   "version": "3.11.4"
  }
 },
 "nbformat": 4,
 "nbformat_minor": 2
}
